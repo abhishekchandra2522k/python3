{
 "cells": [
  {
   "cell_type": "markdown",
   "metadata": {},
   "source": [
    "###### vowels in a dictionary"
   ]
  },
  {
   "cell_type": "code",
   "execution_count": 1,
   "metadata": {},
   "outputs": [],
   "source": [
    "sentence = \"Doge Coin to the Moon. Much WOW..\"\n",
    "words = sentence.lower().split()\n",
    "vowels = ['a','e','i','o','u']\n",
    "vowels_list = {}\n",
    "\n",
    "for word in words:\n",
    "    for letter in word:\n",
    "        if letter in vowels:\n",
    "            if vowels_list.get(letter) == None:\n",
    "                vowels_list[letter] = [word]\n",
    "                break\n",
    "            else:\n",
    "                vowels_list[letter].append(word)"
   ]
  },
  {
   "cell_type": "code",
   "execution_count": 2,
   "metadata": {},
   "outputs": [
    {
     "data": {
      "text/plain": [
       "{'o': ['doge', 'coin', 'to', 'moon.', 'moon.', 'wow..'],\n",
       " 'i': ['coin'],\n",
       " 'e': ['the'],\n",
       " 'u': ['much']}"
      ]
     },
     "execution_count": 2,
     "metadata": {},
     "output_type": "execute_result"
    }
   ],
   "source": [
    "vowels_list"
   ]
  }
 ],
 "metadata": {
  "kernelspec": {
   "display_name": "Python 3",
   "language": "python",
   "name": "python3"
  },
  "language_info": {
   "codemirror_mode": {
    "name": "ipython",
    "version": 3
   },
   "file_extension": ".py",
   "mimetype": "text/x-python",
   "name": "python",
   "nbconvert_exporter": "python",
   "pygments_lexer": "ipython3",
   "version": "3.8.5"
  }
 },
 "nbformat": 4,
 "nbformat_minor": 4
}
