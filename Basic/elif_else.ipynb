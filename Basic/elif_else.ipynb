{
 "cells": [
  {
   "cell_type": "code",
   "execution_count": 3,
   "metadata": {},
   "outputs": [
    {
     "name": "stdout",
     "output_type": "stream",
     "text": [
      "3\n",
      "Destination has arrived.\n"
     ]
    }
   ],
   "source": [
    "user_floor=3\n",
    "current_floor=int(input())\n",
    "difference = user_floor - current_floor\n",
    "\n",
    "if difference > 0:\n",
    "    current_floor = user_floor\n",
    "    print(\"Move Down\")\n",
    "elif difference < 0:\n",
    "    current_floor= user_floor\n",
    "    print(\"Move up\")\n",
    "else:\n",
    "    print(\"Destination has arrived.\")"
   ]
  },
  {
   "cell_type": "code",
   "execution_count": null,
   "metadata": {},
   "outputs": [],
   "source": []
  },
  {
   "cell_type": "code",
   "execution_count": null,
   "metadata": {},
   "outputs": [],
   "source": []
  }
 ],
 "metadata": {
  "kernelspec": {
   "display_name": "Python 3",
   "language": "python",
   "name": "python3"
  },
  "language_info": {
   "codemirror_mode": {
    "name": "ipython",
    "version": 3
   },
   "file_extension": ".py",
   "mimetype": "text/x-python",
   "name": "python",
   "nbconvert_exporter": "python",
   "pygments_lexer": "ipython3",
   "version": "3.7.6"
  }
 },
 "nbformat": 4,
 "nbformat_minor": 4
}
