{
 "cells": [
  {
   "cell_type": "markdown",
   "metadata": {},
   "source": [
    "# Definition of every operation available in the calculator\n",
    "\n",
    "def add(x,y):\n",
    "    \"\"\"This function returns the sum of two numbers\"\"\"\n",
    "    return x + y\n",
    "\n",
    "def subtraction(x,y):\n",
    "    \"\"\"This function returns the difference of two numbers\"\"\"\n",
    "    return x - y\n",
    "\n",
    "def division(x,y):\n",
    "    \"\"\"This function returns the division of two numbers\"\"\"\n",
    "    return x / y\n",
    "\n",
    "def multiplication(x,y):\n",
    "    \"\"\"This function returns the multiplication of two numbers\"\"\"\n",
    "    return x * y"
   ]
  },
  {
   "cell_type": "markdown",
   "metadata": {},
   "source": [
    "# Program for simple Calculator\n",
    "while True:\n",
    "    print(\"Select a choice : \")\n",
    "    print(\"1. Sum\\n2. Subtraction\\n3. Division\\n4. Multiplication\\n5. Exit\\n\")\n",
    "\n",
    "    choice = int(input(\"Enter a choice : \"))\n",
    "\n",
    "    print(\"Enter two numbers on which operation is to be performed : \")\n",
    "\n",
    "    num1 = int(input(\"Enter 1st Number : \"))\n",
    "    num2 = int(input(\"Enter 2nd Number : \"))\n",
    "    if choice == 1:\n",
    "            answer = add(num1,num2)\n",
    "    elif choice == 2:\n",
    "            answer = subtraction(num1,num2)\n",
    "    elif choice == 3:\n",
    "            answer = division(num1,num2)\n",
    "    elif choice == 4:\n",
    "            answer = multiplication(num1,num2)\n",
    "    elif choice == 5:\n",
    "            break\n",
    "    else:\n",
    "        print(\"Enter a correct choice.\")\n",
    "    print(\"Answer : \",answer)"
   ]
  },
  {
   "cell_type": "markdown",
   "metadata": {},
   "source": [
    "# Program for advance.01 calculator"
   ]
  },
  {
   "cell_type": "code",
   "execution_count": 4,
   "metadata": {},
   "outputs": [
    {
     "name": "stdout",
     "output_type": "stream",
     "text": [
      "\n",
      "Our magical calculator\n",
      "\n",
      "Type 'Quit' to exit\n",
      "Enter equation: 2+2/3*4-1\n",
      "3.666666666666666\n",
      "3.666666666666666Quit\n",
      "\n",
      "Goodbye, Human!\n"
     ]
    }
   ],
   "source": [
    "import re\n",
    "\n",
    "print(\"\\nOur magical calculator\")\n",
    "print(\"\\nType 'Quit' to exit\")\n",
    "\n",
    "\n",
    "\n",
    "previous = 0\n",
    "run = True\n",
    "\n",
    "def performMath():\n",
    "    \n",
    "    global run\n",
    "    global previous\n",
    "    equation = \"\"\n",
    "    \n",
    "    if previous == 0:\n",
    "        equation = input(\"Enter equation: \")\n",
    "    else:\n",
    "        equation = input(str(previous))\n",
    "    \n",
    "    if equation == \"Quit\":\n",
    "        print(\"\\nGoodbye, Human!\")\n",
    "        run = False\n",
    "    else:\n",
    "        equation = re.sub('[a-zA-z.,:() ]',\"\",equation)\n",
    "        if previous == 0:\n",
    "            previous = eval(equation)\n",
    "        else:\n",
    "            previous = eval(str(previous) + equation)\n",
    "        print(previous)\n",
    "\n",
    "while run:\n",
    "    performMath()"
   ]
  },
  {
   "cell_type": "markdown",
   "metadata": {},
   "source": [
    "-------------------------------------------------------------------------------------------------END----------------------------------------------------------------------------------------------------"
   ]
  }
 ],
 "metadata": {
  "kernelspec": {
   "display_name": "Python 3",
   "language": "python",
   "name": "python3"
  },
  "language_info": {
   "codemirror_mode": {
    "name": "ipython",
    "version": 3
   },
   "file_extension": ".py",
   "mimetype": "text/x-python",
   "name": "python",
   "nbconvert_exporter": "python",
   "pygments_lexer": "ipython3",
   "version": "3.8.5"
  }
 },
 "nbformat": 4,
 "nbformat_minor": 4
}
