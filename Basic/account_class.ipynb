{
 "cells": [
  {
   "cell_type": "code",
   "execution_count": 1,
   "metadata": {},
   "outputs": [],
   "source": [
    "class Account:\n",
    "    def __init__ (self, number):\n",
    "        self.number = number\n",
    "    def account_type(self):\n",
    "        \"\"\"Get the account type\"\"\"\n",
    "        if str(self.number).startswith(\"1\"):\n",
    "            self.type = \"current\"\n",
    "        if str(self.number).startswith(\"2\"):\n",
    "            self.type = \"savings\"\n",
    "    def interest_rate(self):\n",
    "        self.account_type()\n",
    "        if self.type == \"current\":\n",
    "            self.interest = 0\n",
    "        if self.type == \"savings\":\n",
    "            self.interest = 5\n",
    "        return self.interest"
   ]
  },
  {
   "cell_type": "code",
   "execution_count": 2,
   "metadata": {},
   "outputs": [
    {
     "data": {
      "text/plain": [
       "5"
      ]
     },
     "execution_count": 2,
     "metadata": {},
     "output_type": "execute_result"
    }
   ],
   "source": [
    "acc = Account(2001)\n",
    "acc.interest_rate()"
   ]
  },
  {
   "cell_type": "code",
   "execution_count": 3,
   "metadata": {},
   "outputs": [],
   "source": [
    "class Account2:\n",
    "    def __init__(self, number, name, balance):\n",
    "        self.account_number = number\n",
    "        self.account_name = name\n",
    "        self.account_balance = balance\n",
    "    def __str__(self):\n",
    "        return str(self.account_name) + \"'s account balance is\" + str(self.account_balance)\n"
   ]
  },
  {
   "cell_type": "code",
   "execution_count": 4,
   "metadata": {},
   "outputs": [
    {
     "name": "stdout",
     "output_type": "stream",
     "text": [
      "Abhishek Chandra's account balance is20000000\n"
     ]
    }
   ],
   "source": [
    "acc2 = Account2(1001, \"Abhishek Chandra\", 20000000)\n",
    "print(acc2)"
   ]
  }
 ],
 "metadata": {
  "kernelspec": {
   "display_name": "Python 3",
   "language": "python",
   "name": "python3"
  },
  "language_info": {
   "codemirror_mode": {
    "name": "ipython",
    "version": 3
   },
   "file_extension": ".py",
   "mimetype": "text/x-python",
   "name": "python",
   "nbconvert_exporter": "python",
   "pygments_lexer": "ipython3",
   "version": "3.8.5"
  }
 },
 "nbformat": 4,
 "nbformat_minor": 4
}
