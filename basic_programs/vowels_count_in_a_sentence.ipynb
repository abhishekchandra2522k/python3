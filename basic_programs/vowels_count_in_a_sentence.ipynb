{
 "cells": [
  {
   "cell_type": "code",
   "execution_count": 1,
   "metadata": {},
   "outputs": [
    {
     "name": "stdout",
     "output_type": "stream",
     "text": [
      "This is a vowels count code.\n",
      "{'i': 2, 'a': 1, 'o': 3, 'e': 2, 'u': 1}\n"
     ]
    }
   ],
   "source": [
    "sentence = input()\n",
    "vowels = ['a','e','i','o','u']\n",
    "vowels_char = {}\n",
    "for char in list(sentence.lower()):\n",
    "    if char in vowels:\n",
    "        if vowels_char.get(char) == None:\n",
    "            #Key doesn't exist yet, add it.\n",
    "            vowels_char[char] = 1\n",
    "        else:\n",
    "            #key already exist, add to the value.\n",
    "            vowels_char[char] += 1 \n",
    "print(vowels_char)"
   ]
  }
 ],
 "metadata": {
  "kernelspec": {
   "display_name": "Python 3",
   "language": "python",
   "name": "python3"
  },
  "language_info": {
   "codemirror_mode": {
    "name": "ipython",
    "version": 3
   },
   "file_extension": ".py",
   "mimetype": "text/x-python",
   "name": "python",
   "nbconvert_exporter": "python",
   "pygments_lexer": "ipython3",
   "version": "3.7.6"
  }
 },
 "nbformat": 4,
 "nbformat_minor": 4
}
