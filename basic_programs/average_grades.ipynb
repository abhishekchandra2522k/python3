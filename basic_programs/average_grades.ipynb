{
 "cells": [
  {
   "cell_type": "markdown",
   "metadata": {},
   "source": [
    "Average Grades Version 1\n",
    "\n",
    "Using while and for loop"
   ]
  },
  {
   "cell_type": "code",
   "execution_count": 1,
   "metadata": {},
   "outputs": [
    {
     "name": "stdout",
     "output_type": "stream",
     "text": [
      "Use 'e' to exit input stream\n",
      " - 2\n",
      " - 3\n",
      " - 4\n",
      " - e\n",
      "9.0\n"
     ]
    },
    {
     "data": {
      "text/plain": [
       "3.0"
      ]
     },
     "execution_count": 1,
     "metadata": {},
     "output_type": "execute_result"
    }
   ],
   "source": [
    "print(\"Use 'e' to exit input stream\")\n",
    "section = []\n",
    "sum = 0\n",
    "\n",
    "while True:\n",
    "    grade = input (\" - \")\n",
    "    if grade == \"e\":\n",
    "        break\n",
    "    else :\n",
    "        grade = float(grade)\n",
    "        section.append(grade)\n",
    "\n",
    "for grade in section:\n",
    "    sum = sum + grade\n",
    "average = sum / len(section)\n",
    "print(sum)\n",
    "average"
   ]
  },
  {
   "cell_type": "markdown",
   "metadata": {},
   "source": [
    "Average Grades Version 2\n",
    "\n",
    "Using function"
   ]
  },
  {
   "cell_type": "code",
   "execution_count": 2,
   "metadata": {},
   "outputs": [
    {
     "name": "stdout",
     "output_type": "stream",
     "text": [
      "3.0\n"
     ]
    }
   ],
   "source": [
    "def avg_grades(*grades):\n",
    "    \"\"\"\n",
    "    Calculates average of the grades provided.\n",
    "    Can take many number of grades due to * \n",
    "    \"\"\"\n",
    "\n",
    "    i=0\n",
    "    sum=0.0\n",
    "    for grade in grades:\n",
    "        sum = sum + grade\n",
    "        i=i+1\n",
    "    avg = sum / i\n",
    "    return avg\n",
    "\n",
    "avg = avg_grades(2.5,3.0,3.5)\n",
    "print(avg)"
   ]
  },
  {
   "cell_type": "markdown",
   "metadata": {},
   "source": [
    "Average Grades Version 3\n",
    "\n",
    "Detailed version"
   ]
  },
  {
   "cell_type": "code",
   "execution_count": 3,
   "metadata": {},
   "outputs": [
    {
     "name": "stdout",
     "output_type": "stream",
     "text": [
      " \n",
      "Enter your choice \n",
      "1. Enter Grades\n",
      "2. Delete grades\n",
      "3. See all grades\n",
      "5. Calculate Average\n",
      "6. Exit\n",
      "1\n",
      "Enter grades: (use 'e' to exit input stream)\n",
      "10\n",
      "100\n",
      "-5\n",
      "e\n",
      " \n",
      "Enter your choice \n",
      "1. Enter Grades\n",
      "2. Delete grades\n",
      "3. See all grades\n",
      "5. Calculate Average\n",
      "6. Exit\n",
      "5\n",
      "Average is : 35.0\n",
      " \n",
      "Enter your choice \n",
      "1. Enter Grades\n",
      "2. Delete grades\n",
      "3. See all grades\n",
      "5. Calculate Average\n",
      "6. Exit\n",
      "3\n",
      "[10.0, 100.0, -5.0]\n",
      " \n",
      "Enter your choice \n",
      "1. Enter Grades\n",
      "2. Delete grades\n",
      "3. See all grades\n",
      "5. Calculate Average\n",
      "6. Exit\n",
      "6\n"
     ]
    }
   ],
   "source": [
    "grades = []\n",
    "\n",
    "while True:\n",
    "    print(\" \")\n",
    "    print('Enter your choice ')\n",
    "    print('1. Enter Grades')\n",
    "    print('2. Delete grades')\n",
    "    print('3. See all grades')\n",
    "    print('5. Calculate Average')\n",
    "    print('6. Exit')\n",
    "    \n",
    "    choice = input()\n",
    "    \n",
    "    if not (len(choice) == 1 or choice.isnumeric()):\n",
    "        print(\"Enter a valid choice\")\n",
    "        continue\n",
    "     \n",
    "    if int(choice) == 6:\n",
    "        break\n",
    "    \n",
    "    if int(choice) == 1:\n",
    "        print(\"Enter grades: (use 'e' to exit input stream)\")\n",
    "        while True:\n",
    "            grade = (input())\n",
    "            if grade == 'e':\n",
    "                break\n",
    "            grade = float(grade)\n",
    "            grades.append(grade)\n",
    "    if int(choice) == 5:\n",
    "        sum = 0\n",
    "        if grades == []:\n",
    "            print(\"First enter grades in choice 1\")\n",
    "            continue\n",
    "        for grade in grades:\n",
    "            sum = sum + grade\n",
    "        average = sum / len(grades)\n",
    "        print(\"Average is :\",average)\n",
    "        \n",
    "    if int(choice) == 2:\n",
    "        grades.delete(int(input()))\n",
    "    if int(choice) == 3:\n",
    "        print(grades)"
   ]
  }
 ],
 "metadata": {
  "kernelspec": {
   "display_name": "Python 3",
   "language": "python",
   "name": "python3"
  },
  "language_info": {
   "codemirror_mode": {
    "name": "ipython",
    "version": 3
   },
   "file_extension": ".py",
   "mimetype": "text/x-python",
   "name": "python",
   "nbconvert_exporter": "python",
   "pygments_lexer": "ipython3",
   "version": "3.8.5"
  }
 },
 "nbformat": 4,
 "nbformat_minor": 4
}
